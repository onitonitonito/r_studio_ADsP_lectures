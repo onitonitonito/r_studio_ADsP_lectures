{
 "cells": [
  {
   "cell_type": "markdown",
   "metadata": {},
   "source": [
    "<img src=\"/kernelspecs/ir/logo-64x64.png\" align=\"left\">\n",
    "#  Notebook Script\n",
    "> 1. first\n",
    "> 1. second\n",
    "\n",
    "## Exploring Suvival on the Titanic\n"
   ]
  },
  {
   "cell_type": "markdown",
   "metadata": {},
   "source": [
    "## 1.1 Load and Check Data"
   ]
  },
  {
   "cell_type": "code",
   "execution_count": 1,
   "metadata": {
    "scrolled": true
   },
   "outputs": [
    {
     "ename": "ERROR",
     "evalue": "Error in library(\"ggtheme\"): there is no package called 'ggtheme'\n",
     "output_type": "error",
     "traceback": [
      "Error in library(\"ggtheme\"): there is no package called 'ggtheme'\nTraceback:\n",
      "1. library(\"ggtheme\")",
      "2. stop(txt, domain = NA)"
     ]
    }
   ],
   "source": [
    "library('ggplot2')     # Visualization\n",
    "library('ggtheme')     # Visualization\n",
    "library('scales')      # Visualization\n",
    "library('dplyr')       # Data Manipulation\n",
    "library('mice')        # imputation\n",
    "library('randimForest')# Classification algorithm"
   ]
  },
  {
   "cell_type": "markdown",
   "metadata": {},
   "source": [
    "Now that our packages are loaded, let’s read in and take a peek at the data."
   ]
  },
  {
   "cell_type": "code",
   "execution_count": null,
   "metadata": {},
   "outputs": [],
   "source": [
    "train <- read.csv('../input/train.csv', stringsAsFactors = F)\n",
    "test  <- read.csv('../input/test.csv', stringsAsFactors = F)\n",
    "\n",
    "full  <- bind_rows(train, test) # bind training & test data\n",
    "\n",
    "# check data\n",
    "str(full)"
   ]
  },
  {
   "cell_type": "markdown",
   "metadata": {},
   "source": [
    "![](/static/base/images/logo.png)"
   ]
  }
 ],
 "metadata": {
  "kernelspec": {
   "display_name": "R",
   "language": "R",
   "name": "ir"
  },
  "language_info": {
   "codemirror_mode": "r",
   "file_extension": ".r",
   "mimetype": "text/x-r-source",
   "name": "R",
   "pygments_lexer": "r",
   "version": "3.4.3"
  }
 },
 "nbformat": 4,
 "nbformat_minor": 2
}
