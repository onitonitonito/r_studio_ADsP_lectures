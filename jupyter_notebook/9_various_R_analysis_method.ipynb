{
 "cells": [
  {
   "cell_type": "markdown",
   "metadata": {},
   "source": [
    "### 위 공식들을 사용해서 간단한 단일 회귀식을 직접 구해 보겠습니다.\n",
    ">보통 두뇌지수(IQ) 는 유전이라고 하죠?\n",
    ">그래서 부모의 두뇌 지수와 자녀의 두뇌지수를 조사한 데이터를 분석해서 회귀식을 구하고 부모의 IQ 가 117 일때 자녀의 IQ가 얼마나 될지 예측해 보겠습니다.\n",
    "> - 부모의 IQ(x) : 110 , 120 , 130 , 140 , 150  \n",
    "> - 자녀의 IQ(y) : 100 , 105 , 128 , 115 , 142  \n",
    "\n",
    "### x,y 평균 구하기\n",
    ">위와 같은 데이터가 주어졌다면 가장 먼저 각 x , y 의 평균부터 구해야겠죠?\n",
    "> - x 의 평균은 ( 110+120+130+140+150) / 5 = 130 이고  \n",
    "> - y 의 평균은 ( 100+105+128+115+142) / 5 = 118 입니다.  \n",
    "\n",
    "### 이 값들을 간단하게 표로 정리해 보겠습니다.\n",
    ">표를 보면 두드러기 나시는 분들 계시죠??\n",
    ">하지만 어렵지 않으니까 눈으로만 지나지 말고 꼭 직접 차근차근 해보세요~\n",
    ">그래야 피가 되고 살이 됩니다~~\n",
    "\n",
    "|   x값   |   y값   | 𝐱 - x̄ | y - ŷ | (𝐱 - x̄)( y - ŷ ) | (𝐱 − x̄ )²|\n",
    "|:-------:|:-------:|:-----:|:-----:|:----------------:|:---------:|\n",
    "| 110     | 100     | -20   | -18   |        360       |    400    |\n",
    "| 120     | 105     | -10   | -13   |        130       |    100    |\n",
    "| 130     | 128     | 0     | 10    |         0        |     0     |\n",
    "| 140     | 115     | 10    | -3    |        -30       |    100    |\n",
    "| 150     | 142     | 20    | 24    |        480       |    400    |\n",
    "| 평균130 | 평균118 |   -   |   -   |        940       |    1000   |"
   ]
  },
  {
   "cell_type": "markdown",
   "metadata": {},
   "source": [
    "### R을 이용한 분석"
   ]
  },
  {
   "cell_type": "code",
   "execution_count": 4,
   "metadata": {},
   "outputs": [],
   "source": [
    "x <- c(110,120,130,140,150)\n",
    "y <- c(100,105,128,115,142)"
   ]
  },
  {
   "cell_type": "code",
   "execution_count": 9,
   "metadata": {},
   "outputs": [
    {
     "data": {
      "text/plain": [
       "\n",
       "Call:\n",
       "lm(formula = y ~ x)\n",
       "\n",
       "Coefficients:\n",
       "(Intercept)            x  \n",
       "      -4.20         0.94  \n"
      ]
     },
     "metadata": {},
     "output_type": "display_data"
    }
   ],
   "source": [
    "line = lm(y~x)\n",
    "line\n",
    "\n",
    "# y = -4.20 + 0.94x"
   ]
  },
  {
   "cell_type": "code",
   "execution_count": 12,
   "metadata": {},
   "outputs": [],
   "source": [
    "# 그림결과 조정을 위해 주석처리하고, 결과물 이미지를 첨부 합니다.\n",
    "# plot(y~x, pch=20, col=\"red\")\n",
    "# abline(line, col=\"blue\")"
   ]
  },
  {
   "attachments": {
    "image.png": {
     "image/png": "[encoded data removed]"
    }
   },
   "cell_type": "markdown",
   "metadata": {},
   "source": [
    "### 아래 그림에서 파란선이 회귀식 (y_hat) ŷ = -4.2 + 0.94x 이 됩니다.\n",
    "\n",
    ">가장 정확한 예측은 모든 데이터가 회귀식 위에 있는 것입니다. 그러면 정확도가 100% 가 됩니다. 그런데 현실은 그렇지 못하지요. 즉 예측을 해도 오차가 있다는 것입니다.\n",
    "이처럼 예측된 값과 실제 값과의 차이 (오차) 를 잔차 라고 부릅니다.\n",
    "\n",
    "![image.png](attachment:image.png)\n",
    "\n",
    "현실적으로 가장 좋은 예측은 잔차의 합이 최소가 되는 것인데 문제는 잔차는 + 값과 - 값이 있어서 평균을 내면 0 으로 나옵니다. 그래서 잔차를 제곱해서 부호를 없애고 그 제곱 값들을 전부 더해서 그 값이 최소가 되는 회귀식을 찾게 되는데 이 방법이 앞에서 잠시 언급된 최소제곱법(최소자승법)이라 합니다.\n"
   ]
  },
  {
   "cell_type": "markdown",
   "metadata": {},
   "source": [
    "### Tablegenerator.com 은 엑셀과 (복+붙) 호환 됨\n",
    "> 1. 텍스트를 복+붙하면, 한줄로 복사됨\n",
    "> 1. 엑셀에서 표형식으로 조정\n",
    "> 1. 엑셀에서 행-열 바꾸기로 최종 조정 완료"
   ]
  },
  {
   "cell_type": "markdown",
   "metadata": {},
   "source": [
    "| 이름  | 성적  | IQ  | 다니는 학원수  | 게임하는시간  | TV시청시간  |\n",
    "|:-----:|:-----:|:---:|:--------------:|:-------------:|:-----------:|\n",
    "|   A   |   90  | 140 |        2       |       1       |      0      |\n",
    "|   B   |   75  | 125 |        1       |       3       |      3      |\n",
    "|   C   |   77  | 120 |        1       |       0       |      4      |\n",
    "|   D   |   83  | 135 |        2       |       3       |      2      |\n",
    "|   E   |   65  | 105 |        0       |       4       |      4      |\n",
    "|   F   |   80  | 123 |        3       |       1       |      1      |\n",
    "|   G   |   83  | 132 |        3       |       4       |      1      |\n",
    "|   H   |   70  | 115 |        1       |       1       |      3      |\n",
    "|   I   |   87  | 128 |        4       |       0       |      0      |\n",
    "|   J   |   79  | 131 |        2       |       2       |      3      |"
   ]
  },
  {
   "cell_type": "markdown",
   "metadata": {},
   "source": [
    "| 이름 | x(IQ) | y(성적) |  x-x^ |  y-ŷ  | (x-x^)( y-ŷ ) |  (x - x^ )² |\n",
    "|:----:|:-----:|:-------:|:-----:|:-----:|:-------------:|:------------:|\n",
    "|   A  |  140  |    90   | 14.6  | 11.1  |     162.06    |    213.16    |\n",
    "|   B  |  125  |    75   | -0.4  | -3.9  |      1.56     |     0.16     |\n",
    "|   C  |  120  |    77   | -5.4  | -1.9  |     10.26     |     29.16    |\n",
    "|   D  |  135  |    83   | 9.6   | 4.1   |     39.36     |     92.16    |\n",
    "|   E  |  105  |    65   | -20.4 | -13.9 |     283.56    |    416.16    |\n",
    "|   F  |  123  |    80   | -2.4  | 1.1   |     -2.64     |     5.76     |\n",
    "|   G  |  132  |    83   | 6.6   | 4.1   |     27.06     |     43.56    |\n",
    "|   H  |  115  |    70   | -10.4 | -8.9  |     92.56     |    108.16    |\n",
    "|   I  |  128  |    87   | 2.6   | 8.1   |     21.06     |     6.76     |\n",
    "|   J  |  131  |    79   | 5.6   | 0.1   |      0.56     |     31.36    |\n",
    "| 평균 | 125.4 |   78.9  | -     | -     | 합계 : 635.44 | 합계 : 946.4 |"
   ]
  }
 ],
 "metadata": {
  "kernelspec": {
   "display_name": "Python 3",
   "language": "python",
   "name": "python3"
  },
  "language_info": {
   "codemirror_mode": {
    "name": "ipython",
    "version": 3
   },
   "file_extension": ".py",
   "mimetype": "text/x-python",
   "name": "python",
   "nbconvert_exporter": "python",
   "pygments_lexer": "ipython3",
   "version": "3.6.5"
  }
 },
 "nbformat": 4,
 "nbformat_minor": 2
}
